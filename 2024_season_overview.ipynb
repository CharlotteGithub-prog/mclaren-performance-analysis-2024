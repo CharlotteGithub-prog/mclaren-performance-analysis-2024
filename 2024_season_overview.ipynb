{
 "cells": [
  {
   "cell_type": "markdown",
   "metadata": {},
   "source": [
    "# Initial Analysis of 2024 Season"
   ]
  },
  {
   "cell_type": "markdown",
   "metadata": {},
   "source": [
    "## 1.1 Import Libraries"
   ]
  },
  {
   "cell_type": "code",
   "execution_count": null,
   "metadata": {},
   "outputs": [],
   "source": [
    "import numpy as np\n",
    "import pandas as pd\n",
    "import matplotlib.pyplot as plt\n",
    "import matplotlib.font_manager as font_manager\n",
    "import matplotlib.colors as mcolors\n",
    "import seaborn as sns\n",
    "import math\n",
    "\n",
    "# import warnings\n",
    "# warnings.filterwarnings('ignore')\n",
    "\n",
    "from datetime import timedelta\n",
    "# % matplotlib inline"
   ]
  },
  {
   "cell_type": "markdown",
   "metadata": {},
   "source": [
    "## 1.2 Import fastf1 Libraries and Set Color Scheme\n",
    "\n",
    "We will be using the open source fastf1 library for accessing up to date season data"
   ]
  },
  {
   "cell_type": "code",
   "execution_count": null,
   "metadata": {},
   "outputs": [],
   "source": [
    "import fastf1 as ff1\n",
    "from fastf1 import plotting\n",
    "from fastf1 import utils\n",
    "\n",
    "# Load FastF1's dark color scheme\n",
    "ff1.plotting.setup_mpl(mpl_timedelta_support=False, misc_mpl_mods=False,\n",
    "                          color_scheme='fastf1')"
   ]
  },
  {
   "cell_type": "markdown",
   "metadata": {},
   "source": [
    "## 1.3 Enable Caching (Optional)\n",
    "\n",
    "If you want to improve performance by caching downloaded fastf1 data, uncomment the following code cell and replace '/path/to/your/directory' with the desired path to your cache directory."
   ]
  },
  {
   "cell_type": "code",
   "execution_count": null,
   "metadata": {},
   "outputs": [],
   "source": [
    "# Enable the cache by providing the name of your cache folder\n",
    "cache_path = '/Users/charlotte/Desktop/mclaren-performance-analysis-2024/cache'\n",
    "ff1.Cache.enable_cache(cache_path)"
   ]
  },
  {
   "cell_type": "code",
   "execution_count": null,
   "metadata": {},
   "outputs": [],
   "source": [
    "# Define target session\n",
    "year, grand_prix, session = 2024, 'Miami', 'R'\n",
    "\n",
    "# Load target session\n",
    "target_session = ff1.get_session(year, grand_prix, session)\n",
    "target_session.load(telemetry=True)\n",
    "\n",
    "# Define target drivers\n",
    "driver_1, driver_2 = 'NOR', 'LEC'\n",
    "team_1, team_2, team_3 = 'McLaren', 'Ferrari', 'Red Bull Racing'\n"
   ]
  },
  {
   "cell_type": "code",
   "execution_count": null,
   "metadata": {},
   "outputs": [],
   "source": [
    "# Function to lighten team colour\n",
    "def lighten_color(color, amount=0.5):\n",
    "    color = mcolors.to_rgb(color)\n",
    "    return [(1 - amount) * c + amount for c in color]\n",
    "\n",
    "# Retrieve team colors from target_session.results based on driver abbreviations\n",
    "team_color_1 = '#' + target_session.results[target_session.results['Abbreviation'] == driver_1].iloc[0]['TeamColor']\n",
    "team_color_2 = '#' + target_session.results[target_session.results['Abbreviation'] == driver_2].iloc[0]['TeamColor']\n",
    "\n",
    "# If drivers for analysis are from the same team then adjust driver_2 colour\n",
    "if team_color_1 == team_color_2:\n",
    "    # Lighten one color for distinction or use a dashed line\n",
    "    from matplotlib.colors import to_rgb\n",
    "    team_color_2 = lighten_color(team_color_2, amount=0.6)\n",
    "    linestyle_2 = '--'"
   ]
  },
  {
   "cell_type": "code",
   "execution_count": null,
   "metadata": {},
   "outputs": [],
   "source": [
    "print(type(target_session))\n",
    "target_session.results"
   ]
  },
  {
   "cell_type": "code",
   "execution_count": null,
   "metadata": {},
   "outputs": [],
   "source": [
    "telemetry = target_session.laps.loc[0].get_car_data().add_distance()"
   ]
  },
  {
   "cell_type": "code",
   "execution_count": null,
   "metadata": {},
   "outputs": [],
   "source": [
    "telemetry.head()"
   ]
  },
  {
   "cell_type": "code",
   "execution_count": null,
   "metadata": {},
   "outputs": [],
   "source": [
    "# Access selected driver fastest laps\n",
    "laps_driver_1 = target_session.laps.pick_drivers(driver_1).pick_fastest()\n",
    "laps_driver_2 = target_session.laps.pick_drivers(driver_2).pick_fastest()\n",
    "\n",
    "# Retrieve the telemetry and add the distance column\n",
    "telemetry_driver_1 = laps_driver_1.get_car_data().add_distance()\n",
    "telemetry_driver_2 = laps_driver_2.get_car_data().add_distance()"
   ]
  },
  {
   "cell_type": "code",
   "execution_count": null,
   "metadata": {},
   "outputs": [],
   "source": [
    "# Plot Telemetry\n",
    "plotting.setup_mpl()\n",
    "\n",
    "subplots_number = 5 #6 with DRS\n",
    "fig, ax = plt.subplots(subplots_number,figsize=(24,12))\n",
    "\n",
    "background = \"white\"\n",
    "title_color = 'silver' # '#6441a5'\n",
    "\n",
    "ax[0].set_facecolor(background)\n",
    "ax[1].set_facecolor(background)\n",
    "ax[2].set_facecolor(background)\n",
    "ax[3].set_facecolor(background)\n",
    "ax[4].set_facecolor(background)\n",
    "#ax[5].set_facecolor(background)\n",
    "\n",
    "\n",
    "ax[0].plot(telemetry_driver_1['Time'], telemetry_driver_1['Speed'], color=team_color_1, linestyle='-', label=driver_1)\n",
    "ax[0].plot(telemetry_driver_2['Time'], telemetry_driver_2['Speed'], color=team_color_2, linestyle='-', label=driver_2)\n",
    "\n",
    "ax[1].plot(telemetry_driver_1['Time'], telemetry_driver_1['RPM'], color=team_color_1, linestyle='-', label=driver_1)\n",
    "ax[1].plot(telemetry_driver_2['Time'], telemetry_driver_2['RPM'], color=team_color_2, linestyle='-', label=driver_2)\n",
    "\n",
    "ax[2].plot(telemetry_driver_1['Time'], telemetry_driver_1['nGear'], color=team_color_1, linestyle='-', label=driver_1)\n",
    "ax[2].plot(telemetry_driver_2['Time'], telemetry_driver_2['nGear'], color=team_color_2, linestyle='-', label=driver_2)\n",
    "\n",
    "ax[3].plot(telemetry_driver_1['Time'], telemetry_driver_1['Throttle'], color=team_color_1, linestyle='-', label=driver_1)\n",
    "ax[3].plot(telemetry_driver_2['Time'], telemetry_driver_2['Throttle'], color=team_color_2, linestyle='-', label=driver_2)\n",
    "\n",
    "ax[4].plot(telemetry_driver_1['Time'], telemetry_driver_1['Brake'], color=team_color_1, linestyle='-', label=driver_1)\n",
    "ax[4].plot(telemetry_driver_2['Time'], telemetry_driver_2['Brake'], color=team_color_2, linestyle='-', label=driver_2)\n",
    "\n",
    "#ax[5].plot(telemetry_driver_1['Time'], telemetry_driver_1['DRS'], color=team_color_1, linestyle='-', label=driver_1)\n",
    "#ax[5].plot(telemetry_driver_2['Time'], telemetry_driver_2['DRS'], color=team_color_2, linestyle='-', label=driver_2)\n",
    "\n",
    "ax[0].set_ylabel(\"Speed [km/h]\")\n",
    "ax[1].set_ylabel(\"RPM [#]\")\n",
    "ax[2].set_ylabel(\"Gear [#]\")\n",
    "ax[3].set_ylabel(\"Throttle [%]\")\n",
    "ax[4].set_ylabel(\"Brake [%]\")\n",
    "#ax[5].set_ylabel(\"DRS\")\n",
    "\n",
    "ax[0].get_xaxis().set_ticklabels([])\n",
    "ax[1].get_xaxis().set_ticklabels([])\n",
    "ax[2].get_xaxis().set_ticklabels([])\n",
    "ax[3].get_xaxis().set_ticklabels([])\n",
    "ax[4].get_xaxis().set_ticklabels([])\n",
    "#ax[5].get_xaxis().set_ticklabels([])\n",
    "\n",
    "fig.align_ylabels()\n",
    "\n",
    "fig.legend([driver_1,driver_2])\n",
    "\n",
    "\n",
    "plot_title = 'fastest_lap_telemetry_comparison '+grand_prix+'_'+str(year)+' '+driver_1+' vs '+driver_2\n",
    "ax[0].title.set_text(plot_title)\n",
    "plt.subplots_adjust(left=0.06 ,right=0.99, top=0.9, bottom=0.05)\n",
    "\n",
    "plt.savefig(plot_title+'.png', dpi=300)"
   ]
  }
 ],
 "metadata": {
  "kernelspec": {
   "display_name": "Python 3",
   "language": "python",
   "name": "python3"
  },
  "language_info": {
   "codemirror_mode": {
    "name": "ipython",
    "version": 3
   },
   "file_extension": ".py",
   "mimetype": "text/x-python",
   "name": "python",
   "nbconvert_exporter": "python",
   "pygments_lexer": "ipython3",
   "version": "3.11.4"
  }
 },
 "nbformat": 4,
 "nbformat_minor": 2
}
