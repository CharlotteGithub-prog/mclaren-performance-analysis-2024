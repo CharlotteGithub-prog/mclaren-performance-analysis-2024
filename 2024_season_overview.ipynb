{
 "cells": [
  {
   "cell_type": "markdown",
   "metadata": {},
   "source": []
  },
  {
   "cell_type": "markdown",
   "metadata": {},
   "source": [
    "# 1.0 File Setup"
   ]
  },
  {
   "cell_type": "markdown",
   "metadata": {},
   "source": [
    "## 1.1 Import Libraries"
   ]
  },
  {
   "cell_type": "code",
   "execution_count": 1,
   "metadata": {},
   "outputs": [],
   "source": [
    "import numpy as np\n",
    "import pandas as pd\n",
    "import matplotlib.pyplot as plt\n",
    "import matplotlib.font_manager as font_manager\n",
    "import seaborn as sns\n",
    "import math\n",
    "\n",
    "import warnings\n",
    "warnings.filterwarnings('ignore')\n",
    "\n",
    "from datetime import timedelta\n",
    "# % matplotlib inline"
   ]
  },
  {
   "cell_type": "markdown",
   "metadata": {},
   "source": [
    "## 1.2 Import fastf1 Libraries and Set Color Scheme\n",
    "\n",
    "We will be using the open source fastf1 library for accessing up to date season data"
   ]
  },
  {
   "cell_type": "code",
   "execution_count": 11,
   "metadata": {},
   "outputs": [],
   "source": [
    "import fastf1 as ff1\n",
    "from fastf1 import plotting\n",
    "from fastf1 import utils\n",
    "\n",
    "# Load FastF1's dark color scheme\n",
    "ff1.plotting.setup_mpl(mpl_timedelta_support=False, misc_mpl_mods=False,\n",
    "                          color_scheme='fastf1')"
   ]
  },
  {
   "cell_type": "markdown",
   "metadata": {},
   "source": [
    "## 1.3 Enable Caching (Optional)\n",
    "\n",
    "If you want to improve performance by caching downloaded fastf1 data, uncomment the following code cell and replace '/path/to/your/directory' with the desired path to your cache directory."
   ]
  },
  {
   "cell_type": "code",
   "execution_count": null,
   "metadata": {},
   "outputs": [],
   "source": [
    "# Enable the cache by providing the name of your cache folder\n",
    "cache_path = '/Users/charlotte/Desktop/mclaren-performance-analysis-2024/cache'\n",
    "ff1.Cache.enable_cache(cache_path)"
   ]
  }
 ],
 "metadata": {
  "kernelspec": {
   "display_name": "Python 3",
   "language": "python",
   "name": "python3"
  },
  "language_info": {
   "codemirror_mode": {
    "name": "ipython",
    "version": 3
   },
   "file_extension": ".py",
   "mimetype": "text/x-python",
   "name": "python",
   "nbconvert_exporter": "python",
   "pygments_lexer": "ipython3",
   "version": "3.11.4"
  }
 },
 "nbformat": 4,
 "nbformat_minor": 2
}
